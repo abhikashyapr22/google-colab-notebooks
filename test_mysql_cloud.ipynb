{
  "nbformat": 4,
  "nbformat_minor": 0,
  "metadata": {
    "colab": {
      "name": "test_mysql_cloud",
      "provenance": [],
      "authorship_tag": "ABX9TyPt5njmKx3LPzr0DO5Lz0zu",
      "include_colab_link": true
    },
    "kernelspec": {
      "name": "python3",
      "display_name": "Python 3"
    },
    "language_info": {
      "name": "python"
    }
  },
  "cells": [
    {
      "cell_type": "markdown",
      "metadata": {
        "id": "view-in-github",
        "colab_type": "text"
      },
      "source": [
        "<a href=\"https://colab.research.google.com/github/abhikashyapr22/google-colab-notebooks/blob/master/test_mysql_cloud.ipynb\" target=\"_parent\"><img src=\"https://colab.research.google.com/assets/colab-badge.svg\" alt=\"Open In Colab\"/></a>"
      ]
    },
    {
      "cell_type": "code",
      "source": [
        "! pip install mysql-connector-python-rf"
      ],
      "metadata": {
        "colab": {
          "base_uri": "https://localhost:8080/"
        },
        "id": "_thxg5wrzsxx",
        "outputId": "4b4e7e36-db4d-45ca-9ffd-09c40e07f8d9"
      },
      "execution_count": 8,
      "outputs": [
        {
          "output_type": "stream",
          "name": "stdout",
          "text": [
            "Looking in indexes: https://pypi.org/simple, https://us-python.pkg.dev/colab-wheels/public/simple/\n",
            "Requirement already satisfied: mysql-connector-python-rf in /usr/local/lib/python3.7/dist-packages (2.2.2)\n"
          ]
        }
      ]
    },
    {
      "cell_type": "markdown",
      "source": [
        ""
      ],
      "metadata": {
        "id": "rhBnuexazra2"
      }
    },
    {
      "cell_type": "code",
      "execution_count": 21,
      "metadata": {
        "id": "gKOsgWogzRsr"
      },
      "outputs": [],
      "source": [
        "import mysql.connector as con"
      ]
    },
    {
      "cell_type": "code",
      "source": [
        "mydb = con.connect(host='bjzkelkbad9pb4o2jnai-mysql.services.clever-cloud.com', user='usrjugrmmjdtfig2', passwd='Onh3g3RCFkTzeIHe1sfr', port=3306, database='bjzkelkbad9pb4o2jnai' )"
      ],
      "metadata": {
        "id": "UAwGHt2NzhtX"
      },
      "execution_count": 22,
      "outputs": []
    },
    {
      "cell_type": "code",
      "source": [
        "cursor = mydb.cursor()"
      ],
      "metadata": {
        "id": "UA_kODWX2JL0"
      },
      "execution_count": 23,
      "outputs": []
    },
    {
      "cell_type": "code",
      "source": [
        "cursor.execute('show tables')"
      ],
      "metadata": {
        "id": "ALNdbbLi2opE"
      },
      "execution_count": 24,
      "outputs": []
    },
    {
      "cell_type": "code",
      "source": [
        "cursor.fetchall()"
      ],
      "metadata": {
        "colab": {
          "base_uri": "https://localhost:8080/"
        },
        "id": "l7I4BLeQ2v1y",
        "outputId": "bb7b522c-2511-4c39-9417-8834a4d41ae8"
      },
      "execution_count": 25,
      "outputs": [
        {
          "output_type": "execute_result",
          "data": {
            "text/plain": [
              "[]"
            ]
          },
          "metadata": {},
          "execution_count": 25
        }
      ]
    },
    {
      "cell_type": "code",
      "source": [
        "cursor.execute(\"create table student_info (Name varchar(20)) \")"
      ],
      "metadata": {
        "id": "MDQfc-iG2ycm"
      },
      "execution_count": 27,
      "outputs": []
    },
    {
      "cell_type": "code",
      "source": [
        "cursor.execute('show tables')"
      ],
      "metadata": {
        "id": "7a_3BWov5meE"
      },
      "execution_count": 31,
      "outputs": []
    },
    {
      "cell_type": "code",
      "source": [
        "cursor.fetchall()"
      ],
      "metadata": {
        "colab": {
          "base_uri": "https://localhost:8080/"
        },
        "id": "NaQ4tod45tf5",
        "outputId": "97589bcf-e5b6-4ebd-8746-1a2440736ddf"
      },
      "execution_count": 32,
      "outputs": [
        {
          "output_type": "execute_result",
          "data": {
            "text/plain": [
              "[(bytearray(b'student_info'),), (bytearray(b'student_info2'),)]"
            ]
          },
          "metadata": {},
          "execution_count": 32
        }
      ]
    },
    {
      "cell_type": "code",
      "source": [
        "cursor.execute(\"create table student_info2 (ID int, Name varchar(20), surname varchar(20)) \")"
      ],
      "metadata": {
        "id": "dDsgWoYf535B"
      },
      "execution_count": 30,
      "outputs": []
    },
    {
      "cell_type": "code",
      "source": [
        "cursor.execute(\"select * from student_info2\")"
      ],
      "metadata": {
        "id": "62dyeOLp6T3o"
      },
      "execution_count": 43,
      "outputs": []
    },
    {
      "cell_type": "code",
      "source": [
        "cursor.fetchall()"
      ],
      "metadata": {
        "colab": {
          "base_uri": "https://localhost:8080/"
        },
        "id": "RkTYJtU76gzZ",
        "outputId": "cec2721d-71df-43a9-f55a-4d19753d4ee7"
      },
      "execution_count": 44,
      "outputs": [
        {
          "output_type": "execute_result",
          "data": {
            "text/plain": [
              "[(1, 'Abhishek', 'Kashyap'),\n",
              " (2, 'Divyesh', 'Chaudhary'),\n",
              " (3, 'Vikrant', 'Chauhan')]"
            ]
          },
          "metadata": {},
          "execution_count": 44
        }
      ]
    },
    {
      "cell_type": "code",
      "source": [
        "cursor.execute(\"insert into student_info2 values(3, 'Vikrant', 'Chauhan')\")"
      ],
      "metadata": {
        "id": "TosAYaVv6lLf"
      },
      "execution_count": 42,
      "outputs": []
    },
    {
      "cell_type": "code",
      "source": [
        ""
      ],
      "metadata": {
        "id": "kGdoO8W369MX"
      },
      "execution_count": null,
      "outputs": []
    }
  ]
}